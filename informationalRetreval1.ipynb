{
  "nbformat": 4,
  "nbformat_minor": 0,
  "metadata": {
    "colab": {
      "provenance": [],
      "mount_file_id": "1a_xEBCm0KuNCm5SrZqU7TgILryBVTc6s",
      "authorship_tag": "ABX9TyOKbz3fFCwZgDILrQkNzMFX",
      "include_colab_link": true
    },
    "kernelspec": {
      "name": "python3",
      "display_name": "Python 3"
    },
    "language_info": {
      "name": "python"
    }
  },
  "cells": [
    {
      "cell_type": "markdown",
      "metadata": {
        "id": "view-in-github",
        "colab_type": "text"
      },
      "source": [
        "<a href=\"https://colab.research.google.com/github/SkShoheb33/Information-Retreval/blob/main/informationalRetreval1.ipynb\" target=\"_parent\"><img src=\"https://colab.research.google.com/assets/colab-badge.svg\" alt=\"Open In Colab\"/></a>"
      ]
    },
    {
      "cell_type": "code",
      "execution_count": 1,
      "metadata": {
        "id": "GewLcHyQTdH5"
      },
      "outputs": [],
      "source": [
        "import numpy as np\n",
        "import pandas as pd\n",
        "import os\n",
        "import re\n",
        "from nltk.stem import PorterStemmer\n",
        "from nltk.tokenize import word_tokenize"
      ]
    },
    {
      "cell_type": "code",
      "source": [
        "from google.colab import drive\n",
        "drive.mount('/content/drive')"
      ],
      "metadata": {
        "colab": {
          "base_uri": "https://localhost:8080/"
        },
        "id": "upIwowsqmocw",
        "outputId": "517b95df-6726-452c-addb-3cd29c686a9c"
      },
      "execution_count": 4,
      "outputs": [
        {
          "output_type": "stream",
          "name": "stdout",
          "text": [
            "Mounted at /content/drive\n"
          ]
        }
      ]
    },
    {
      "cell_type": "code",
      "source": [
        "class InfoRetrival:\n",
        "  def __init__(self,corpus):  \n",
        "    self.corpus = corpus\n",
        "    self.documents = []\n",
        "    self.titles = []\n",
        "    self.tokens = []\n",
        "    self.termDocs = {}\n",
        "    self.invertIndex = {}\n",
        "    self.boolIndex = {}\n",
        "    self.positionIndex = {}\n",
        "    self.bigramIndex = {}\n",
        "    for i in os.listdir(corpus):\n",
        "      self.documents.append(open(corpus+i).read())\n",
        "      self.titles.append(i[:-4])\n",
        "\n",
        "\n",
        "\n",
        "\n",
        "\n",
        "  def makeTerms(self,document):\n",
        "    terms = document.split(\" \")\n",
        "    n = len(terms)\n",
        "    for i in range(n):\n",
        "      if not terms[i].islower():\n",
        "        terms[i] = terms[i].lower()\n",
        "      terms[i] = re.sub(r'[^a-zA-Z0-9]', '', terms[i])\n",
        "    return terms\n",
        "\n",
        "\n",
        "\n",
        "  def removeStopWords(self,terms):\n",
        "    # \"i\",\"am\",\"it\",\"is\",\"the\",\"we\",\"was\",\"a\",\"an\",\"and\",\"or\",\"to\",\"so\",\n",
        "    stopWords = [\".\",\";\",\"!\",\"@\",\"#\",\"$\",\"%\",\"^\",\"&\",\"*\",\"(\",\")\",\"{\",\"}\",\"[\",\"]\",\":\",\"'\",\"/\",\"<\",\">\",'\"',\"+\"]\n",
        "    i = 0\n",
        "    while i < len(terms):\n",
        "      if terms[i] in stopWords  or len(terms[i])==0:\n",
        "        terms.remove(terms[i])\n",
        "      else:\n",
        "        i+=1\n",
        "    return terms\n",
        "\n",
        "\n",
        "\n",
        "  def termsDocuments(self):\n",
        "    for title,docs in zip(self.titles,self.documents):\n",
        "      self.termDocs[title] = self.removeStopWords(self.makeTerms(docs))\n",
        "\n",
        "\n",
        "\n",
        "\n",
        "  def stemming(self):\n",
        "    ps = PorterStemmer()\n",
        "    for title in self.termDocs:\n",
        "      n = len(self.termDocs[title])\n",
        "      for i in range(n):\n",
        "        self.termDocs[title][i] = ps.stem(self.termDocs[title][i])\n",
        "\n",
        "\n",
        "\n",
        "  def tokenize(self):\n",
        "    self.termsDocuments()\n",
        "    self.stemming()\n",
        "    for title in self.termDocs:\n",
        "      n = len(self.termDocs[title])\n",
        "      for i in range(n):\n",
        "        if self.termDocs[title][i] in self.tokens:\n",
        "          continue\n",
        "        self.tokens.append(self.termDocs[title][i])\n",
        "    self.tokens.sort()\n",
        "\n",
        "\n",
        "\n",
        "\n",
        "  def invertedIndex(self):\n",
        "    self.tokenize()\n",
        "    for token in self.tokens:\n",
        "      for doc in self.termDocs:\n",
        "        if token in self.termDocs[doc]:\n",
        "          if token not in self.invertIndex:\n",
        "            self.invertIndex[token] = []\n",
        "          self.invertIndex[token].append(doc)\n",
        "\n",
        "\n",
        "\n",
        "\n",
        "  def booleanIndex(self):\n",
        "    self.tokenize()\n",
        "    for i in self.tokens:\n",
        "      for j in self.titles:\n",
        "        if i not in self.boolIndex:\n",
        "          self.boolIndex[i] = []\n",
        "        if j in self.invertIndex[i]:\n",
        "          self.boolIndex[i].append(1)\n",
        "        else:\n",
        "          self.boolIndex[i].append(0)\n",
        "\n",
        "\n",
        "          \n",
        "  def positionalIndex(self):\n",
        "    ps = PorterStemmer()\n",
        "    for i in self.tokens:\n",
        "      self.positionIndex[i] = {}\n",
        "      for j in self.titles:\n",
        "        document = open(self.corpus+(j+\".txt\")).read().lower().split(\" \")\n",
        "        n = len(document)\n",
        "        row = []\n",
        "        for k in range(n):\n",
        "          if i == ps.stem(document[k]):\n",
        "            row.append(k)\n",
        "        if len(row)>0:\n",
        "          self.positionIndex[i][j] = row\n",
        "\n",
        "\n",
        "  def printBooleanIndex(self):\n",
        "    return pd.DataFrame(self.boolIndex,index=self.titles)\n",
        "\n",
        "\n",
        "\n",
        "\n",
        "  def boolean_and(self,row1,row2):\n",
        "    n = len(row1)\n",
        "    for i in range(n):\n",
        "      if row1[i] == row2[i] == 1:\n",
        "        row1[i] = 1\n",
        "      else:\n",
        "        row1[i] = 0\n",
        "    return row1\n",
        "\n",
        "\n",
        "\n",
        "  def boolean_or(self,row1,row2):\n",
        "    n = len(row1)\n",
        "    for i in range(n):\n",
        "      if row1[i] == 1 or row2[i] == 1:\n",
        "        row1[i] = 1\n",
        "      else:\n",
        "        row1[i] = 0\n",
        "    return row1\n",
        "\n",
        "\n",
        "\n",
        "  def boolean_not(self,row):\n",
        "    n = len(row)\n",
        "    for i in range(n):\n",
        "      if row[i] :\n",
        "        row[i] = 0\n",
        "      else:\n",
        "        row[i] = 1\n",
        "    return row\n",
        "\n",
        "\n",
        "\n",
        "  def booleanQuery(self,query):\n",
        "    query = query.split(\" \")\n",
        "    opearator = \"\"\n",
        "    flag = False\n",
        "    n = 10\n",
        "    result = []\n",
        "    for i in query:\n",
        "      if i in ['and','or']:\n",
        "        opearator = i\n",
        "      elif i == 'not':\n",
        "        flag = True\n",
        "      else:\n",
        "        if flag :\n",
        "          flag = False\n",
        "          result = self.boolean_not(self.boolIndex[i])\n",
        "        if opearator == \"and\":\n",
        "          result = self.boolean_and(result,self.boolIndex[i])\n",
        "          operator = \"\"\n",
        "        elif opearator == \"or\":\n",
        "          result = self.boolean_or(result,self.boolIndex[i])\n",
        "          operator = \"\"\n",
        "        else:\n",
        "          result = self.boolIndex[i]\n",
        "    ans = []\n",
        "    for i in range(n):\n",
        "      if result[i]:\n",
        "        ans.append(self.titles[i])\n",
        "    return ans\n",
        "  def commonDocument(self,terms):\n",
        "    commonDocs = set(self.positionIndex[terms[0]])\n",
        "    for i in range(1,len(terms)):\n",
        "      commonDocs = commonDocs.intersection(self.positionIndex[terms[i]])\n",
        "    return list(commonDocs)\n",
        "  def phraseQuery(self,query):\n",
        "    print(\"HELLo\")\n",
        "    positions = {}\n",
        "    ps = PorterStemmer()\n",
        "    query = query.split(\" \")\n",
        "    n = len(query)\n",
        "    for i in range(n):\n",
        "      query[i] = ps.stem(query[i])\n",
        "    result = []\n",
        "    commonDocs = self.commonDocument(query)\n",
        "    for doc in commonDocs:\n",
        "      for position in self.positionIndex[query[0]][doc]:\n",
        "        i = 1\n",
        "        while i<n:\n",
        "          if (position+i) in self.positionIndex[query[i]][doc]:\n",
        "            i+=1\n",
        "          else:\n",
        "            break\n",
        "        if i == n:\n",
        "          result.append(doc)\n",
        "    return result"
      ],
      "metadata": {
        "id": "k88w8C_2UIPQ"
      },
      "execution_count": 56,
      "outputs": []
    },
    {
      "cell_type": "code",
      "source": [
        "obj = InfoRetrival(\"/content/drive/MyDrive/stories/\")\n",
        "obj.invertedIndex()\n",
        "obj.invertIndex\n",
        "obj.booleanIndex()\n",
        "obj.boolIndex\n",
        "obj.printBooleanIndex()\n",
        "# obj.booleanQuery(\"tiger or tiger\")\n",
        "obj.positionalIndex()\n",
        "obj.positionIndex\n",
        "obj.phraseQuery(\"li\")"
      ],
      "metadata": {
        "id": "DCjEnGpuVYuu",
        "colab": {
          "base_uri": "https://localhost:8080/"
        },
        "outputId": "d15a3eb9-461e-4d06-d5a7-3aa40b92f98a"
      },
      "execution_count": 38,
      "outputs": [
        {
          "output_type": "stream",
          "name": "stdout",
          "text": [
            "HELLo\n"
          ]
        },
        {
          "output_type": "execute_result",
          "data": {
            "text/plain": [
              "['doc7', 'doc10', 'doc3', 'doc8']"
            ]
          },
          "metadata": {},
          "execution_count": 38
        }
      ]
    },
    {
      "cell_type": "code",
      "source": [
        "ps = PorterStemmer()\n",
        "ps.stem(\"one\")"
      ],
      "metadata": {
        "colab": {
          "base_uri": "https://localhost:8080/",
          "height": 35
        },
        "id": "bcQrt5QW7xMX",
        "outputId": "7dc4cf4f-2b1d-478d-f785-57e1526f3189"
      },
      "execution_count": 52,
      "outputs": [
        {
          "output_type": "execute_result",
          "data": {
            "text/plain": [
              "'one'"
            ],
            "application/vnd.google.colaboratory.intrinsic+json": {
              "type": "string"
            }
          },
          "metadata": {},
          "execution_count": 52
        }
      ]
    },
    {
      "cell_type": "code",
      "source": [
        "obj.phraseQuery(\"look for some water\")"
      ],
      "metadata": {
        "colab": {
          "base_uri": "https://localhost:8080/"
        },
        "id": "AzIJ70CY2a3x",
        "outputId": "ce57a9cd-b58f-4321-cf0f-716228f13707"
      },
      "execution_count": 55,
      "outputs": [
        {
          "output_type": "stream",
          "name": "stdout",
          "text": [
            "HELLo\n"
          ]
        },
        {
          "output_type": "execute_result",
          "data": {
            "text/plain": [
              "['doc4']"
            ]
          },
          "metadata": {},
          "execution_count": 55
        }
      ]
    },
    {
      "cell_type": "code",
      "source": [
        "obj.positionIndex[\"onc\"]"
      ],
      "metadata": {
        "colab": {
          "base_uri": "https://localhost:8080/"
        },
        "id": "2P35znny1gTs",
        "outputId": "a82dfd6f-8d80-4b20-f474-1b28283eec1e"
      },
      "execution_count": 41,
      "outputs": [
        {
          "output_type": "execute_result",
          "data": {
            "text/plain": [
              "{'doc3': [0],\n",
              " 'doc7': [0],\n",
              " 'doc8': [2, 1133, 1247],\n",
              " 'doc9': [85],\n",
              " 'doc10': [0],\n",
              " 'doc5': [2]}"
            ]
          },
          "metadata": {},
          "execution_count": 41
        }
      ]
    },
    {
      "cell_type": "code",
      "source": [
        "obj.documents[3]"
      ],
      "metadata": {
        "colab": {
          "base_uri": "https://localhost:8080/",
          "height": 87
        },
        "id": "USfZ428g69IX",
        "outputId": "883f898a-6397-44c8-f0b6-ef06968ec53b"
      },
      "execution_count": 45,
      "outputs": [
        {
          "output_type": "execute_result",
          "data": {
            "text/plain": [
              "\"One hot day, a thirsty crow was looking for some water to drink. After searching and searching, the crow finally found a pot with some water in it.\\n\\nThe crow was delighted. But when he put its beak into the pot, he couldn't reach the water. There was only a little bit of water at the bottom. The crow thought for a while\\nand came up with a brilliant idea. The Thirsty CrowThe clever crow picked up pebbles and dropped them one by one into the pot. The water inside the pot began to rise and rise until finally, he could drink the water. The crow drank the water and flew away happily.\""
            ],
            "application/vnd.google.colaboratory.intrinsic+json": {
              "type": "string"
            }
          },
          "metadata": {},
          "execution_count": 45
        }
      ]
    }
  ]
}